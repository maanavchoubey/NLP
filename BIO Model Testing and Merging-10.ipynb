{
 "cells": [
  {
   "cell_type": "code",
   "execution_count": 2,
   "id": "4f8fb746",
   "metadata": {},
   "outputs": [],
   "source": [
    "import numpy as np\n",
    "import pandas as pd\n",
    "import cv2\n",
    "import os\n",
    "from tqdm import tqdm\n",
    "import pytesseract\n",
    "from glob import glob\n",
    "import spacy\n",
    "import re\n",
    "import string"
   ]
  },
  {
   "cell_type": "code",
   "execution_count": 3,
   "id": "602a392d",
   "metadata": {},
   "outputs": [],
   "source": [
    "txt = \"\"\"Google has released it's new model which has got attention of everyone.\n",
    "Amazon is planning to expand into Food delivery, thereby giving competition .\n",
    "Apple is coming up with new iphone model. Flipkart will have to catch up soon.\"\"\""
   ]
  },
  {
   "cell_type": "code",
   "execution_count": 4,
   "id": "7a98bc05",
   "metadata": {},
   "outputs": [
    {
     "name": "stdout",
     "output_type": "stream",
     "text": [
      "<class 'str'>\n",
      "<class 'str'>\n",
      "<class 'dict'>\n",
      "<class 'dict'>\n",
      "googlehasreleaseditsnewmodelwhichhasgotattentionofeveryone.amazonisplanningtoexpandintofooddelivery,therebygivingcompetition.appleiscomingupwithnewiphonemodel.flipkartwillhavetocatchupsoon.\n"
     ]
    }
   ],
   "source": [
    "whitespace = string.whitespace\n",
    "punctuation = \"!#$%&\\'()*+:;<=>?[\\\\]^`{|}~ÛÏ\"\n",
    "tableWhitespace = str.maketrans('','',whitespace)\n",
    "tablePunctuation = str.maketrans('','',punctuation)\n",
    "print(type(whitespace))\n",
    "print(type(punctuation))\n",
    "print(type(tablePunctuation))\n",
    "print(type(tableWhitespace))\n",
    "text = str(txt)\n",
    "text = text.lower()\n",
    "removewhitespace = text.translate(tableWhitespace)\n",
    "removepunctuation = removewhitespace.translate(tablePunctuation)\n",
    "\n",
    "print(str(removepunctuation))"
   ]
  },
  {
   "cell_type": "code",
   "execution_count": 5,
   "id": "5f784dd6",
   "metadata": {},
   "outputs": [],
   "source": [
    "def cleanText(txt):\n",
    "    whitespace = string.whitespace\n",
    "    punctuation = \"!#$%&\\'()*+:;<=>?[\\\\]^`{|}~ÛÏ\"\n",
    "    tableWhitespace = str.maketrans('','',whitespace)\n",
    "    tablePunctuation = str.maketrans('','',punctuation)\n",
    "    text = str(txt)\n",
    "    text = text.lower()\n",
    "    removewhitespace = text.translate(tableWhitespace)\n",
    "    removepunctuation = removewhitespace.translate(tablePunctuation)\n",
    "    \n",
    "    return str(removepunctuation)"
   ]
  },
  {
   "cell_type": "code",
   "execution_count": 6,
   "id": "00056859",
   "metadata": {},
   "outputs": [],
   "source": [
    "import warnings \n",
    "warnings.filterwarnings('ignore')"
   ]
  },
  {
   "cell_type": "code",
   "execution_count": 7,
   "id": "60032986",
   "metadata": {},
   "outputs": [],
   "source": [
    "model_ner = spacy.load('./output/model-best/')\n",
    "pytesseract.pytesseract.tesseract_cmd = 'C:/Program Files/Tesseract-OCR/tesseract.exe'"
   ]
  },
  {
   "cell_type": "code",
   "execution_count": 8,
   "id": "65c32895",
   "metadata": {},
   "outputs": [
    {
     "name": "stdout",
     "output_type": "stream",
     "text": [
      "dr. t. s. reddy senior consultant traffic transportation lea associates south asia pvt. ltd. leadership in consulting engineers planners engineering hl no 1-4-879/54/1a, street no. 8, p lannin g near vijaya bank, lower tank bund, gandhinagar, hyderabad-500080 a.p. india solutions tel 91-40-66747 122 / 66747135 . mobile 91-91778 82230 email tsr@lasaindia.com ————— limmappagari@ymait.com _ alea group company website - www.lasaindia.com\n"
     ]
    }
   ],
   "source": [
    "image = cv2.imread('./data/242.jpeg')\n",
    "\n",
    "'''\n",
    "cv2.imshow('businesscard', image)\n",
    "cv2.waitKey(0)\n",
    "cv2.destroyAllWindows()\n",
    "'''\n",
    "\n",
    "testData = pytesseract.image_to_data(image)\n",
    "\n",
    "testList = list(map(lambda x:x.split('\\t'), testData.split('\\n')))\n",
    "df = pd.DataFrame(testList[1:], columns = testList[0])\n",
    "df.dropna(inplace=True)\n",
    "df['text'] = df['text'].apply(cleanText)\n",
    "\n",
    "df_clean = df.query('text !=\"\"')\n",
    "content = \" \".join([w for w in df_clean['text']])\n",
    "print(content)\n",
    "doc = model_ner(content)"
   ]
  },
  {
   "cell_type": "code",
   "execution_count": 9,
   "id": "57e0ef8b",
   "metadata": {},
   "outputs": [
    {
     "name": "stdout",
     "output_type": "stream",
     "text": [
      "(dr., t., s., reddy, street, no., lannin, g, near, vijaya, bank, ,, lower, tank, bund, a.p., india, 91-40-66747, 66747135, 91-91778, 82230, tsr@lasaindia.com, —, —, —, —, —, limmappagari@ymait.com)\n",
      "dr. -- B-NAME\n",
      "t. -- I-NAME\n",
      "s. -- I-NAME\n",
      "reddy -- I-NAME\n",
      "street -- B-ADD\n",
      "no. -- I-ADD\n",
      "lannin -- I-ADD\n",
      "g -- I-ADD\n",
      "near -- I-ADD\n",
      "vijaya -- I-ADD\n",
      "bank -- I-ADD\n",
      ", -- I-ADD\n",
      "lower -- I-ADD\n",
      "tank -- I-ADD\n",
      "bund -- I-ADD\n",
      "a.p. -- I-ADD\n",
      "india -- I-ADD\n",
      "91-40-66747 -- B-PHONE\n",
      "66747135 -- I-PHONE\n",
      "91-91778 -- B-PHONE\n",
      "82230 -- I-PHONE\n",
      "tsr@lasaindia.com -- B-EMAIL\n",
      "— -- I-EMAIL\n",
      "— -- B-PHONE\n",
      "— -- I-EMAIL\n",
      "— -- I-EMAIL\n",
      "— -- I-EMAIL\n",
      "limmappagari@ymait.com -- B-EMAIL\n"
     ]
    }
   ],
   "source": [
    "print(doc.ents)\n",
    "for entity in doc.ents:\n",
    "    print(entity.text,'--',entity.label_)"
   ]
  },
  {
   "cell_type": "code",
   "execution_count": 10,
   "id": "8cc2b123",
   "metadata": {},
   "outputs": [],
   "source": [
    "from spacy import displacy"
   ]
  },
  {
   "cell_type": "code",
   "execution_count": 11,
   "id": "9bf27bd7",
   "metadata": {},
   "outputs": [],
   "source": [
    "#displacy.serve(doc,style='ent')"
   ]
  },
  {
   "cell_type": "code",
   "execution_count": 12,
   "id": "fe62e89e",
   "metadata": {},
   "outputs": [
    {
     "data": {
      "text/plain": [
       "dict_keys(['text', 'ents', 'tokens'])"
      ]
     },
     "execution_count": 12,
     "metadata": {},
     "output_type": "execute_result"
    }
   ],
   "source": [
    "docjson = doc.to_json()\n",
    "docjson.keys()"
   ]
  },
  {
   "cell_type": "code",
   "execution_count": 13,
   "id": "5af9973e",
   "metadata": {},
   "outputs": [],
   "source": [
    "doc_text = docjson['text']"
   ]
  },
  {
   "cell_type": "code",
   "execution_count": 14,
   "id": "6d25bea3",
   "metadata": {},
   "outputs": [
    {
     "data": {
      "text/html": [
       "<div>\n",
       "<style scoped>\n",
       "    .dataframe tbody tr th:only-of-type {\n",
       "        vertical-align: middle;\n",
       "    }\n",
       "\n",
       "    .dataframe tbody tr th {\n",
       "        vertical-align: top;\n",
       "    }\n",
       "\n",
       "    .dataframe thead th {\n",
       "        text-align: right;\n",
       "    }\n",
       "</style>\n",
       "<table border=\"1\" class=\"dataframe\">\n",
       "  <thead>\n",
       "    <tr style=\"text-align: right;\">\n",
       "      <th></th>\n",
       "      <th>id</th>\n",
       "      <th>start</th>\n",
       "      <th>end</th>\n",
       "      <th>token</th>\n",
       "    </tr>\n",
       "  </thead>\n",
       "  <tbody>\n",
       "    <tr>\n",
       "      <th>0</th>\n",
       "      <td>0</td>\n",
       "      <td>0</td>\n",
       "      <td>2</td>\n",
       "      <td>dr</td>\n",
       "    </tr>\n",
       "    <tr>\n",
       "      <th>1</th>\n",
       "      <td>1</td>\n",
       "      <td>2</td>\n",
       "      <td>3</td>\n",
       "      <td>.</td>\n",
       "    </tr>\n",
       "    <tr>\n",
       "      <th>2</th>\n",
       "      <td>2</td>\n",
       "      <td>4</td>\n",
       "      <td>6</td>\n",
       "      <td>t.</td>\n",
       "    </tr>\n",
       "    <tr>\n",
       "      <th>3</th>\n",
       "      <td>3</td>\n",
       "      <td>7</td>\n",
       "      <td>9</td>\n",
       "      <td>s.</td>\n",
       "    </tr>\n",
       "    <tr>\n",
       "      <th>4</th>\n",
       "      <td>4</td>\n",
       "      <td>10</td>\n",
       "      <td>15</td>\n",
       "      <td>reddy</td>\n",
       "    </tr>\n",
       "    <tr>\n",
       "      <th>5</th>\n",
       "      <td>5</td>\n",
       "      <td>16</td>\n",
       "      <td>22</td>\n",
       "      <td>senior</td>\n",
       "    </tr>\n",
       "    <tr>\n",
       "      <th>6</th>\n",
       "      <td>6</td>\n",
       "      <td>23</td>\n",
       "      <td>33</td>\n",
       "      <td>consultant</td>\n",
       "    </tr>\n",
       "    <tr>\n",
       "      <th>7</th>\n",
       "      <td>7</td>\n",
       "      <td>34</td>\n",
       "      <td>41</td>\n",
       "      <td>traffic</td>\n",
       "    </tr>\n",
       "    <tr>\n",
       "      <th>8</th>\n",
       "      <td>8</td>\n",
       "      <td>42</td>\n",
       "      <td>56</td>\n",
       "      <td>transportation</td>\n",
       "    </tr>\n",
       "    <tr>\n",
       "      <th>9</th>\n",
       "      <td>9</td>\n",
       "      <td>57</td>\n",
       "      <td>60</td>\n",
       "      <td>lea</td>\n",
       "    </tr>\n",
       "  </tbody>\n",
       "</table>\n",
       "</div>"
      ],
      "text/plain": [
       "   id  start  end           token\n",
       "0   0      0    2              dr\n",
       "1   1      2    3               .\n",
       "2   2      4    6              t.\n",
       "3   3      7    9              s.\n",
       "4   4     10   15           reddy\n",
       "5   5     16   22          senior\n",
       "6   6     23   33      consultant\n",
       "7   7     34   41         traffic\n",
       "8   8     42   56  transportation\n",
       "9   9     57   60             lea"
      ]
     },
     "execution_count": 14,
     "metadata": {},
     "output_type": "execute_result"
    }
   ],
   "source": [
    "datafram_tokens = pd.DataFrame(docjson['tokens'])\n",
    "datafram_tokens['token'] = datafram_tokens[['start','end']].apply(\n",
    "    lambda x:doc_text[x[0]:x[1]] , axis = 1)\n",
    "datafram_tokens.head(10)"
   ]
  },
  {
   "cell_type": "code",
   "execution_count": 15,
   "id": "434aa1a9",
   "metadata": {},
   "outputs": [],
   "source": [
    "right_table = pd.DataFrame(docjson['ents'])[['start','label']]\n",
    "datafram_tokens = pd.merge(datafram_tokens,right_table,how='left',on='start')"
   ]
  },
  {
   "cell_type": "code",
   "execution_count": 16,
   "id": "4af256ea",
   "metadata": {},
   "outputs": [
    {
     "data": {
      "text/html": [
       "<div>\n",
       "<style scoped>\n",
       "    .dataframe tbody tr th:only-of-type {\n",
       "        vertical-align: middle;\n",
       "    }\n",
       "\n",
       "    .dataframe tbody tr th {\n",
       "        vertical-align: top;\n",
       "    }\n",
       "\n",
       "    .dataframe thead th {\n",
       "        text-align: right;\n",
       "    }\n",
       "</style>\n",
       "<table border=\"1\" class=\"dataframe\">\n",
       "  <thead>\n",
       "    <tr style=\"text-align: right;\">\n",
       "      <th></th>\n",
       "      <th>id</th>\n",
       "      <th>start</th>\n",
       "      <th>end</th>\n",
       "      <th>token</th>\n",
       "      <th>label</th>\n",
       "    </tr>\n",
       "  </thead>\n",
       "  <tbody>\n",
       "    <tr>\n",
       "      <th>0</th>\n",
       "      <td>0</td>\n",
       "      <td>0</td>\n",
       "      <td>2</td>\n",
       "      <td>dr</td>\n",
       "      <td>B-NAME</td>\n",
       "    </tr>\n",
       "    <tr>\n",
       "      <th>1</th>\n",
       "      <td>1</td>\n",
       "      <td>2</td>\n",
       "      <td>3</td>\n",
       "      <td>.</td>\n",
       "      <td>O</td>\n",
       "    </tr>\n",
       "    <tr>\n",
       "      <th>2</th>\n",
       "      <td>2</td>\n",
       "      <td>4</td>\n",
       "      <td>6</td>\n",
       "      <td>t.</td>\n",
       "      <td>I-NAME</td>\n",
       "    </tr>\n",
       "    <tr>\n",
       "      <th>3</th>\n",
       "      <td>3</td>\n",
       "      <td>7</td>\n",
       "      <td>9</td>\n",
       "      <td>s.</td>\n",
       "      <td>I-NAME</td>\n",
       "    </tr>\n",
       "    <tr>\n",
       "      <th>4</th>\n",
       "      <td>4</td>\n",
       "      <td>10</td>\n",
       "      <td>15</td>\n",
       "      <td>reddy</td>\n",
       "      <td>I-NAME</td>\n",
       "    </tr>\n",
       "    <tr>\n",
       "      <th>5</th>\n",
       "      <td>5</td>\n",
       "      <td>16</td>\n",
       "      <td>22</td>\n",
       "      <td>senior</td>\n",
       "      <td>O</td>\n",
       "    </tr>\n",
       "    <tr>\n",
       "      <th>6</th>\n",
       "      <td>6</td>\n",
       "      <td>23</td>\n",
       "      <td>33</td>\n",
       "      <td>consultant</td>\n",
       "      <td>O</td>\n",
       "    </tr>\n",
       "    <tr>\n",
       "      <th>7</th>\n",
       "      <td>7</td>\n",
       "      <td>34</td>\n",
       "      <td>41</td>\n",
       "      <td>traffic</td>\n",
       "      <td>O</td>\n",
       "    </tr>\n",
       "    <tr>\n",
       "      <th>8</th>\n",
       "      <td>8</td>\n",
       "      <td>42</td>\n",
       "      <td>56</td>\n",
       "      <td>transportation</td>\n",
       "      <td>O</td>\n",
       "    </tr>\n",
       "    <tr>\n",
       "      <th>9</th>\n",
       "      <td>9</td>\n",
       "      <td>57</td>\n",
       "      <td>60</td>\n",
       "      <td>lea</td>\n",
       "      <td>O</td>\n",
       "    </tr>\n",
       "  </tbody>\n",
       "</table>\n",
       "</div>"
      ],
      "text/plain": [
       "   id  start  end           token   label\n",
       "0   0      0    2              dr  B-NAME\n",
       "1   1      2    3               .       O\n",
       "2   2      4    6              t.  I-NAME\n",
       "3   3      7    9              s.  I-NAME\n",
       "4   4     10   15           reddy  I-NAME\n",
       "5   5     16   22          senior       O\n",
       "6   6     23   33      consultant       O\n",
       "7   7     34   41         traffic       O\n",
       "8   8     42   56  transportation       O\n",
       "9   9     57   60             lea       O"
      ]
     },
     "execution_count": 16,
     "metadata": {},
     "output_type": "execute_result"
    }
   ],
   "source": [
    "datafram_tokens.fillna('O',inplace=True)\n",
    "datafram_tokens.head(10)"
   ]
  },
  {
   "cell_type": "code",
   "execution_count": 17,
   "id": "2c2147e7",
   "metadata": {},
   "outputs": [],
   "source": [
    "def parser(text,label):\n",
    "    if label == 'PHONE':\n",
    "        text = text.lower()\n",
    "        text = re.sub(r'\\D','',text)\n",
    "        \n",
    "    elif label == 'EMAIL':\n",
    "        text = text.lower()\n",
    "        allow_special_char = '@_.\\-'\n",
    "        text = re.sub(r'[^A-Za-z0-9{} ]'.format(allow_special_char),'',text)\n",
    "        \n",
    "    elif label == 'ADD':\n",
    "        text = text.lower()\n",
    "        allow_special_char = ':/.%#\\-'\n",
    "        text = re.sub(r'[^A-Za-z0-9{} ]'.format(allow_special_char),'',text)\n",
    "        \n",
    "    elif label in ('NAME', 'DES'):\n",
    "        text = text.lower()\n",
    "        text = re.sub(r'[^a-z ]','',text)\n",
    "        text = text.title()\n",
    "        \n",
    "        \n",
    "    return text"
   ]
  },
  {
   "cell_type": "code",
   "execution_count": 18,
   "id": "c85b4b63",
   "metadata": {},
   "outputs": [],
   "source": [
    "info_array = datafram_tokens[['token','label']].values\n",
    "entities = dict(NAME=[],PHONE=[],EMAIL=[],ADD=[])\n",
    "previous = 'O'\n",
    "\n",
    "for token, label in info_array:\n",
    "    bio_tag = label[0]\n",
    "    label_tag = label[2:]\n",
    "    \n",
    "    text = parser(token,label_tag)\n",
    "    \n",
    "    if bio_tag in ('B','I'):\n",
    "        \n",
    "        if previous != label_tag:\n",
    "            entities[label_tag].append(text)\n",
    "            \n",
    "        else:\n",
    "            if bio_tag == \"B\":\n",
    "                entities[label_tag].append(text)\n",
    "                \n",
    "            else:\n",
    "                if label_tag in (\"NAME\", \"ADD\"):\n",
    "                    entities[label_tag][-1] = entities[label_tag][-1] + \" \" + text\n",
    "                    \n",
    "                else:\n",
    "                    entities[label_tag][-1] = entities[label_tag][-1] + text\n",
    "                    \n",
    "    \n",
    "    \n",
    "    previous = label_tag\n"
   ]
  },
  {
   "cell_type": "code",
   "execution_count": 19,
   "id": "402cdfd9",
   "metadata": {},
   "outputs": [
    {
     "name": "stdout",
     "output_type": "stream",
     "text": [
      "Dr T S Reddy \n",
      " 91 66747135 91 82230  \n",
      " tsr@lasaindia.com  limmappagari@ymait.com \n",
      " street no lannin g near vijaya bank  lower tank bund a.p india\n"
     ]
    }
   ],
   "source": [
    "s_name = \"\"\n",
    "s_mail = \"\"\n",
    "s_add = \"\"\n",
    "s_phone = \"\"\n",
    "entities.keys()\n",
    "s_name = \" \".join(entities['NAME'])\n",
    "s_mail = \" \".join(entities['EMAIL'])\n",
    "s_add = \" \".join(entities['ADD'])\n",
    "s_phone = \" \".join(entities['PHONE'])\n",
    "print(s_name,\"\\n\",s_phone,\"\\n\",s_mail,\"\\n\",s_add)"
   ]
  },
  {
   "cell_type": "code",
   "execution_count": 20,
   "id": "e184272c",
   "metadata": {},
   "outputs": [],
   "source": [
    "df = pd.read_csv(\"all_visiting_cards.csv\")"
   ]
  },
  {
   "cell_type": "code",
   "execution_count": 21,
   "id": "1e69992d",
   "metadata": {},
   "outputs": [],
   "source": [
    "d = {'id': 'first', 'text': 'sum'}\n",
    "df_new = df.groupby('id', as_index=False).aggregate(d).reindex(columns=df.columns)"
   ]
  },
  {
   "cell_type": "code",
   "execution_count": 22,
   "id": "9c23cfdc",
   "metadata": {},
   "outputs": [
    {
     "data": {
      "text/html": [
       "<div>\n",
       "<style scoped>\n",
       "    .dataframe tbody tr th:only-of-type {\n",
       "        vertical-align: middle;\n",
       "    }\n",
       "\n",
       "    .dataframe tbody tr th {\n",
       "        vertical-align: top;\n",
       "    }\n",
       "\n",
       "    .dataframe thead th {\n",
       "        text-align: right;\n",
       "    }\n",
       "</style>\n",
       "<table border=\"1\" class=\"dataframe\">\n",
       "  <thead>\n",
       "    <tr style=\"text-align: right;\">\n",
       "      <th></th>\n",
       "      <th>id</th>\n",
       "      <th>text</th>\n",
       "    </tr>\n",
       "  </thead>\n",
       "  <tbody>\n",
       "    <tr>\n",
       "      <th>0</th>\n",
       "      <td>000.jpeg</td>\n",
       "      <td>040-48528881,9030952549Fi/laurelsoverseaseduc...</td>\n",
       "    </tr>\n",
       "    <tr>\n",
       "      <th>1</th>\n",
       "      <td>001.jpeg</td>\n",
       "      <td>johnsmithmarketingmanagerweb:www.psdgraphics.c...</td>\n",
       "    </tr>\n",
       "    <tr>\n",
       "      <th>2</th>\n",
       "      <td>002.jpeg</td>\n",
       "      <td>a80984892444108672,224441/ENKATESWARA&amp; =</td>\n",
       "    </tr>\n",
       "    <tr>\n",
       "      <th>3</th>\n",
       "      <td>003.jpeg</td>\n",
       "      <td>Prasad@9963173535,9490454585     FlexDesign#Al...</td>\n",
       "    </tr>\n",
       "    <tr>\n",
       "      <th>4</th>\n",
       "      <td>004.jpeg</td>\n",
       "      <td>&lt;=&gt;MadisonYachtSalesPaulMadisonYachtBroker-Nor...</td>\n",
       "    </tr>\n",
       "  </tbody>\n",
       "</table>\n",
       "</div>"
      ],
      "text/plain": [
       "         id                                               text\n",
       "0  000.jpeg   040-48528881,9030952549Fi/laurelsoverseaseduc...\n",
       "1  001.jpeg  johnsmithmarketingmanagerweb:www.psdgraphics.c...\n",
       "2  002.jpeg          a80984892444108672,224441/ENKATESWARA& = \n",
       "3  003.jpeg  Prasad@9963173535,9490454585     FlexDesign#Al...\n",
       "4  004.jpeg  <=>MadisonYachtSalesPaulMadisonYachtBroker-Nor..."
      ]
     },
     "execution_count": 22,
     "metadata": {},
     "output_type": "execute_result"
    }
   ],
   "source": [
    "df_new.head()"
   ]
  },
  {
   "cell_type": "code",
   "execution_count": 23,
   "id": "532bb62e",
   "metadata": {},
   "outputs": [
    {
     "data": {
      "text/plain": [
       "'040-48528881,'"
      ]
     },
     "execution_count": 23,
     "metadata": {},
     "output_type": "execute_result"
    }
   ],
   "source": [
    "\n",
    "df.iloc[1,1]+df.iloc[2,1]"
   ]
  },
  {
   "cell_type": "code",
   "execution_count": 24,
   "id": "31ca7e09",
   "metadata": {},
   "outputs": [],
   "source": [
    "img_cv = cv2.imread('./Selected/052.jpeg')"
   ]
  },
  {
   "cell_type": "code",
   "execution_count": 25,
   "id": "1cb95ee0",
   "metadata": {},
   "outputs": [
    {
     "data": {
      "text/plain": [
       "'HONDA\\n\\nDONNIE HANSEN\\nMOTOCROSS TEAM RIDER\\nTEAM HONDA\\n\\nAMERICAN HONDA MOTOR CO., INC.\\n100 WEST ALONDRA BOULEVARD e GARDENA, CA 90247\\n(213) 321-8680\\n'"
      ]
     },
     "execution_count": 25,
     "metadata": {},
     "output_type": "execute_result"
    }
   ],
   "source": [
    "text_cv = pytesseract.image_to_string(img_cv)\n",
    "text_cv"
   ]
  },
  {
   "cell_type": "code",
   "execution_count": 26,
   "id": "894327b3",
   "metadata": {},
   "outputs": [],
   "source": [
    "new_text = text_cv.replace(\"\\n\",\" \")"
   ]
  },
  {
   "cell_type": "code",
   "execution_count": 27,
   "id": "d71450c6",
   "metadata": {},
   "outputs": [],
   "source": [
    "new_text = new_text.lower()"
   ]
  },
  {
   "cell_type": "code",
   "execution_count": 61,
   "id": "730ec527",
   "metadata": {},
   "outputs": [],
   "source": [
    "imgPaths= glob('./Selected/*.jpeg')"
   ]
  },
  {
   "cell_type": "code",
   "execution_count": 55,
   "id": "6269fc6a",
   "metadata": {},
   "outputs": [
    {
     "name": "stderr",
     "output_type": "stream",
     "text": [
      "VisitingCards: 100%|█████████████████████████████████████████████████████████████████| 293/293 [02:15<00:00,  2.17it/s]\n"
     ]
    }
   ],
   "source": [
    "new_all_visiting_cards = pd.DataFrame(columns=['id','text'])\n",
    "for imgPath in tqdm(imgPaths,desc = 'VisitingCards'):\n",
    "    l = []\n",
    "    m = []\n",
    "    directory, filename = os.path.split(imgPath)\n",
    "    m.append(filename)\n",
    "    image = cv2.imread(imgPath)\n",
    "    data = pytesseract.image_to_string(image)\n",
    "    new_data = data.replace(\"\\n\",\" \")\n",
    "    l.append(new_data)\n",
    "    visiting_cards = pd.DataFrame(list(zip(m,l)),columns=['id','text'])\n",
    "    new_all_visiting_cards = pd.concat((new_all_visiting_cards,visiting_cards))"
   ]
  },
  {
   "cell_type": "code",
   "execution_count": 56,
   "id": "14f24eaa",
   "metadata": {},
   "outputs": [
    {
     "data": {
      "text/html": [
       "<div>\n",
       "<style scoped>\n",
       "    .dataframe tbody tr th:only-of-type {\n",
       "        vertical-align: middle;\n",
       "    }\n",
       "\n",
       "    .dataframe tbody tr th {\n",
       "        vertical-align: top;\n",
       "    }\n",
       "\n",
       "    .dataframe thead th {\n",
       "        text-align: right;\n",
       "    }\n",
       "</style>\n",
       "<table border=\"1\" class=\"dataframe\">\n",
       "  <thead>\n",
       "    <tr style=\"text-align: right;\">\n",
       "      <th></th>\n",
       "      <th>id</th>\n",
       "      <th>text</th>\n",
       "    </tr>\n",
       "  </thead>\n",
       "  <tbody>\n",
       "    <tr>\n",
       "      <th>0</th>\n",
       "      <td>000.jpeg</td>\n",
       "      <td>‘. 040-4852 8881, 90309 52549 Fi /laurelsovers...</td>\n",
       "    </tr>\n",
       "    <tr>\n",
       "      <th>1</th>\n",
       "      <td>001.jpeg</td>\n",
       "      <td>john smith  marketing manager  web: www.psdgra...</td>\n",
       "    </tr>\n",
       "    <tr>\n",
       "      <th>2</th>\n",
       "      <td>002.jpeg</td>\n",
       "      <td>a8 0 98489 24441 lini dy 08672, 224441  1 /ENK...</td>\n",
       "    </tr>\n",
       "    <tr>\n",
       "      <th>3</th>\n",
       "      <td>003.jpeg</td>\n",
       "      <td>Prasad @ 9963173535,9490454585  i Flex Design ...</td>\n",
       "    </tr>\n",
       "    <tr>\n",
       "      <th>4</th>\n",
       "      <td>004.jpeg</td>\n",
       "      <td>&lt;=&gt; Madison Yacht Sales  Paul Madison Yacht Br...</td>\n",
       "    </tr>\n",
       "    <tr>\n",
       "      <th>...</th>\n",
       "      <td>...</td>\n",
       "      <td>...</td>\n",
       "    </tr>\n",
       "    <tr>\n",
       "      <th>288</th>\n",
       "      <td>288.jpeg</td>\n",
       "      <td>D  Inside Design  Ankit Dhyani ankit@insidedes...</td>\n",
       "    </tr>\n",
       "    <tr>\n",
       "      <th>289</th>\n",
       "      <td>289.jpeg</td>\n",
       "      <td>YOUR PRATICE COMPANY NAME A TAG LINE OF YOUR S...</td>\n",
       "    </tr>\n",
       "    <tr>\n",
       "      <th>290</th>\n",
       "      <td>290.jpeg</td>\n",
       "      <td>1) ne</td>\n",
       "    </tr>\n",
       "    <tr>\n",
       "      <th>291</th>\n",
       "      <td>291.jpeg</td>\n",
       "      <td>XXXXX XXXXXX G FIC Lyf ( Designation )  Mob. :...</td>\n",
       "    </tr>\n",
       "    <tr>\n",
       "      <th>292</th>\n",
       "      <td>292.jpeg</td>\n",
       "      <td>Your Business Name  A Tag Line of Your Service...</td>\n",
       "    </tr>\n",
       "  </tbody>\n",
       "</table>\n",
       "<p>293 rows × 2 columns</p>\n",
       "</div>"
      ],
      "text/plain": [
       "           id                                               text\n",
       "0    000.jpeg  ‘. 040-4852 8881, 90309 52549 Fi /laurelsovers...\n",
       "1    001.jpeg  john smith  marketing manager  web: www.psdgra...\n",
       "2    002.jpeg  a8 0 98489 24441 lini dy 08672, 224441  1 /ENK...\n",
       "3    003.jpeg  Prasad @ 9963173535,9490454585  i Flex Design ...\n",
       "4    004.jpeg  <=> Madison Yacht Sales  Paul Madison Yacht Br...\n",
       "..        ...                                                ...\n",
       "288  288.jpeg  D  Inside Design  Ankit Dhyani ankit@insidedes...\n",
       "289  289.jpeg  YOUR PRATICE COMPANY NAME A TAG LINE OF YOUR S...\n",
       "290  290.jpeg                                             1) ne \n",
       "291  291.jpeg  XXXXX XXXXXX G FIC Lyf ( Designation )  Mob. :...\n",
       "292  292.jpeg  Your Business Name  A Tag Line of Your Service...\n",
       "\n",
       "[293 rows x 2 columns]"
      ]
     },
     "execution_count": 56,
     "metadata": {},
     "output_type": "execute_result"
    }
   ],
   "source": [
    "new_all_visiting_cards.reset_index(drop=True,inplace=True)\n",
    "new_all_visiting_cards"
   ]
  },
  {
   "cell_type": "code",
   "execution_count": 81,
   "id": "0aef152a",
   "metadata": {},
   "outputs": [],
   "source": [
    "def cleanText(xyz):\n",
    "    punctuation = \"!#$%&\\'()*+:;<=>?[\\\\]^`{|}~\"\n",
    "    tablePunctuation = str.maketrans('','',punctuation)\n",
    "    text = str(xyz)\n",
    "    text = text.lower()\n",
    "    removepunctuation = text.translate(tablePunctuation)\n",
    "    \n",
    "    return str(removepunctuation)+\" \""
   ]
  },
  {
   "cell_type": "code",
   "execution_count": 82,
   "id": "73b76278",
   "metadata": {},
   "outputs": [
    {
     "name": "stderr",
     "output_type": "stream",
     "text": [
      "VisitingCards: 100%|█████████████████████████████████████████████████████████████████| 293/293 [02:13<00:00,  2.19it/s]\n"
     ]
    }
   ],
   "source": [
    "dic = []\n",
    "for imgPath in tqdm(imgPaths,desc = 'VisitingCards'):\n",
    "    directory, filename = os.path.split(imgPath)\n",
    "    #m.append(filename)\n",
    "    \n",
    "    \n",
    "    image = cv2.imread(imgPath)\n",
    "    data = pytesseract.image_to_string(image)\n",
    "    #new_data = data.replace(\"\\n\",\" \")\n",
    "    dictionary ={\"text\":cleanText(data) ,\"meta\":{\"source\":filename}}\n",
    "    dic.append(dictionary)\n",
    "    \n",
    "    #l.append(new_data)\n",
    "    #visiting_cards = pd.DataFrame(list(zip(m,l)),columns=['id','text'])\n",
    "    #new_all_visiting_cards = pd.concat((new_all_visiting_cards,visiting_cards))"
   ]
  },
  {
   "cell_type": "code",
   "execution_count": 83,
   "id": "9ede2596",
   "metadata": {},
   "outputs": [],
   "source": [
    "import json\n",
    "with open(\"i_am_so_happy.json\", \"w\") as final:\n",
    "    json.dump(dic, final)"
   ]
  },
  {
   "cell_type": "code",
   "execution_count": null,
   "id": "138a0315",
   "metadata": {},
   "outputs": [],
   "source": []
  }
 ],
 "metadata": {
  "kernelspec": {
   "display_name": "Python 3 (ipykernel)",
   "language": "python",
   "name": "python3"
  },
  "language_info": {
   "codemirror_mode": {
    "name": "ipython",
    "version": 3
   },
   "file_extension": ".py",
   "mimetype": "text/x-python",
   "name": "python",
   "nbconvert_exporter": "python",
   "pygments_lexer": "ipython3",
   "version": "3.9.7"
  }
 },
 "nbformat": 4,
 "nbformat_minor": 5
}
