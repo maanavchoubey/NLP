{
 "cells": [
  {
   "cell_type": "code",
   "execution_count": 8,
   "id": "435a5d87",
   "metadata": {},
   "outputs": [
    {
     "name": "stderr",
     "output_type": "stream",
     "text": [
      "2022-04-19 14:08:38.666307: W tensorflow/stream_executor/platform/default/dso_loader.cc:64] Could not load dynamic library 'libcudart.so.11.0'; dlerror: libcudart.so.11.0: cannot open shared object file: No such file or directory; LD_LIBRARY_PATH: /home/codiant/anaconda3/lib/python3.9/site-packages/cv2/../../lib64:\n",
      "2022-04-19 14:08:38.666381: I tensorflow/stream_executor/cuda/cudart_stub.cc:29] Ignore above cudart dlerror if you do not have a GPU set up on your machine.\n"
     ]
    }
   ],
   "source": [
    "from glob import glob\n",
    "import docx2txt\n",
    "import numpy as np\n",
    "import pandas as pd\n",
    "import cv2\n",
    "import os\n",
    "from tqdm import tqdm\n",
    "from glob import glob\n",
    "import spacy\n",
    "import re\n",
    "import string\n",
    "import json"
   ]
  },
  {
   "cell_type": "code",
   "execution_count": 6,
   "id": "9de42d31",
   "metadata": {},
   "outputs": [
    {
     "name": "stdout",
     "output_type": "stream",
     "text": [
      "\u001b[31mERROR: Could not find a version that satisfies the requirement pywin32 (from versions: none)\u001b[0m\r\n",
      "\u001b[31mERROR: No matching distribution found for pywin32\u001b[0m\r\n"
     ]
    }
   ],
   "source": [
    "#import pywin32com.client as win32\n",
    "#from win32com.client import constants"
   ]
  },
  {
   "cell_type": "code",
   "execution_count": 6,
   "id": "18bc4821",
   "metadata": {},
   "outputs": [
    {
     "ename": "com_error",
     "evalue": "(-2147418111, 'Call was rejected by callee.', None, None)",
     "output_type": "error",
     "traceback": [
      "\u001b[1;31m---------------------------------------------------------------------------\u001b[0m",
      "\u001b[1;31mcom_error\u001b[0m                                 Traceback (most recent call last)",
      "\u001b[1;32m~\\AppData\\Local\\Temp/ipykernel_9768/1893876290.py\u001b[0m in \u001b[0;36m<module>\u001b[1;34m\u001b[0m\n\u001b[0;32m     22\u001b[0m \u001b[1;33m\u001b[0m\u001b[0m\n\u001b[0;32m     23\u001b[0m \u001b[1;32mfor\u001b[0m \u001b[0mpath\u001b[0m \u001b[1;32min\u001b[0m \u001b[0mpaths\u001b[0m\u001b[1;33m:\u001b[0m\u001b[1;33m\u001b[0m\u001b[1;33m\u001b[0m\u001b[0m\n\u001b[1;32m---> 24\u001b[1;33m     \u001b[0msave_as_docx\u001b[0m\u001b[1;33m(\u001b[0m\u001b[0mpath\u001b[0m\u001b[1;33m)\u001b[0m\u001b[1;33m\u001b[0m\u001b[1;33m\u001b[0m\u001b[0m\n\u001b[0m",
      "\u001b[1;32m~\\AppData\\Local\\Temp/ipykernel_9768/1893876290.py\u001b[0m in \u001b[0;36msave_as_docx\u001b[1;34m(path)\u001b[0m\n\u001b[0;32m      9\u001b[0m     \u001b[0mword\u001b[0m \u001b[1;33m=\u001b[0m \u001b[0mwin32\u001b[0m\u001b[1;33m.\u001b[0m\u001b[0mgencache\u001b[0m\u001b[1;33m.\u001b[0m\u001b[0mEnsureDispatch\u001b[0m\u001b[1;33m(\u001b[0m\u001b[1;34m'Word.Application'\u001b[0m\u001b[1;33m)\u001b[0m\u001b[1;33m\u001b[0m\u001b[1;33m\u001b[0m\u001b[0m\n\u001b[0;32m     10\u001b[0m     \u001b[0mdoc\u001b[0m \u001b[1;33m=\u001b[0m \u001b[0mword\u001b[0m\u001b[1;33m.\u001b[0m\u001b[0mDocuments\u001b[0m\u001b[1;33m.\u001b[0m\u001b[0mOpen\u001b[0m\u001b[1;33m(\u001b[0m\u001b[0mpath\u001b[0m\u001b[1;33m)\u001b[0m\u001b[1;33m\u001b[0m\u001b[1;33m\u001b[0m\u001b[0m\n\u001b[1;32m---> 11\u001b[1;33m     \u001b[0mdoc\u001b[0m\u001b[1;33m.\u001b[0m\u001b[0mActivate\u001b[0m \u001b[1;33m(\u001b[0m\u001b[1;33m)\u001b[0m\u001b[1;33m\u001b[0m\u001b[1;33m\u001b[0m\u001b[0m\n\u001b[0m\u001b[0;32m     12\u001b[0m \u001b[1;33m\u001b[0m\u001b[0m\n\u001b[0;32m     13\u001b[0m     \u001b[1;31m# Rename path with .docx\u001b[0m\u001b[1;33m\u001b[0m\u001b[1;33m\u001b[0m\u001b[0m\n",
      "\u001b[1;32m~\\AppData\\Local\\Temp\\gen_py\\3.9\\00020905-0000-0000-C000-000000000046x0x8x6\\_Document.py\u001b[0m in \u001b[0;36mActivate\u001b[1;34m(self)\u001b[0m\n\u001b[0;32m     37\u001b[0m \u001b[1;33m\u001b[0m\u001b[0m\n\u001b[0;32m     38\u001b[0m         \u001b[1;32mdef\u001b[0m \u001b[0mActivate\u001b[0m\u001b[1;33m(\u001b[0m\u001b[0mself\u001b[0m\u001b[1;33m)\u001b[0m\u001b[1;33m:\u001b[0m\u001b[1;33m\u001b[0m\u001b[1;33m\u001b[0m\u001b[0m\n\u001b[1;32m---> 39\u001b[1;33m                 \u001b[1;32mreturn\u001b[0m \u001b[0mself\u001b[0m\u001b[1;33m.\u001b[0m\u001b[0m_oleobj_\u001b[0m\u001b[1;33m.\u001b[0m\u001b[0mInvokeTypes\u001b[0m\u001b[1;33m(\u001b[0m\u001b[1;36m113\u001b[0m\u001b[1;33m,\u001b[0m \u001b[0mLCID\u001b[0m\u001b[1;33m,\u001b[0m \u001b[1;36m1\u001b[0m\u001b[1;33m,\u001b[0m \u001b[1;33m(\u001b[0m\u001b[1;36m24\u001b[0m\u001b[1;33m,\u001b[0m \u001b[1;36m0\u001b[0m\u001b[1;33m)\u001b[0m\u001b[1;33m,\u001b[0m \u001b[1;33m(\u001b[0m\u001b[1;33m)\u001b[0m\u001b[1;33m,\u001b[0m\u001b[1;33m)\u001b[0m\u001b[1;33m\u001b[0m\u001b[1;33m\u001b[0m\u001b[0m\n\u001b[0m\u001b[0;32m     40\u001b[0m \u001b[1;33m\u001b[0m\u001b[0m\n\u001b[0;32m     41\u001b[0m         \u001b[1;31m# The method ActiveWritingStyle is actually a property, but must be used as a method to correctly pass the arguments\u001b[0m\u001b[1;33m\u001b[0m\u001b[1;33m\u001b[0m\u001b[0m\n",
      "\u001b[1;31mcom_error\u001b[0m: (-2147418111, 'Call was rejected by callee.', None, None)"
     ]
    }
   ],
   "source": [
    "import os\n",
    "import re\n",
    "\n",
    "# Create list of paths to .doc files\n",
    "paths = glob('D:\\\\All_resumes\\\\*.doc', recursive=True)\n",
    "\n",
    "def save_as_docx(path):\n",
    "    # Opening MS Word\n",
    "    word = win32.gencache.EnsureDispatch('Word.Application')\n",
    "    doc = word.Documents.Open(path)\n",
    "    doc.Activate ()\n",
    "\n",
    "    # Rename path with .docx\n",
    "    new_file_abs = os.path.abspath(path)\n",
    "    new_file_abs = re.sub(r'\\.\\w+$', '.docx', new_file_abs)\n",
    "\n",
    "    # Save and Close\n",
    "    word.ActiveDocument.SaveAs(\n",
    "        new_file_abs, FileFormat=constants.wdFormatXMLDocument\n",
    "    )\n",
    "    doc.Close(False)\n",
    "\n",
    "for path in paths:\n",
    "    save_as_docx(path)"
   ]
  },
  {
   "cell_type": "code",
   "execution_count": null,
   "id": "590eb1c7",
   "metadata": {},
   "outputs": [],
   "source": [
    "\n",
    "dic = []\n",
    "\n",
    "resPaths= glob('D:/All_resumes/*.docx')\n",
    "\n",
    "for resPath in tqdm(resPaths,desc = 'Resumes-doc'):\n",
    "    #print(resPath)\n",
    "    directory, filename = os.path.split(resPath)\n",
    "    \n",
    "    my_text = docx2txt.process(resPath)\n",
    "    \n",
    "    my_text = my_text.replace(\",\",\", \")\n",
    "    my_text = re.sub(r'(\\w+?)\\(',r'\\1 (',my_text)\n",
    "    my_text = re.sub(r'([Ee][Mm][Aa][Ii][Ll]:)(\\w)',r'\\1 \\2',my_text)\n",
    "    url_pattern = re.compile(r'https?://\\S+|www\\.\\S+')\n",
    "    my_text = url_pattern.sub(r'', my_text)\n",
    "    \n",
    "    punctuation = \"!#$%'*;<=>?^`|~\"\n",
    "    tablePunctuation = str.maketrans('','',punctuation)\n",
    "    removepunctuation = my_text.translate(tablePunctuation)\n",
    "    removepunctuation = re.sub(r' +',' ',removepunctuation)\n",
    "    \n",
    "    dictionary ={\"text\":removepunctuation ,\"meta\":{\"source\":resPath}}\n",
    "    dic.append(dictionary)"
   ]
  },
  {
   "cell_type": "code",
   "execution_count": null,
   "id": "adba724a",
   "metadata": {},
   "outputs": [],
   "source": [
    "res_pdf_paths = glob('D:/All_resumes/*.pdf')\n",
    "page = 0\n",
    "for res_pdf_path in tqdm(res_pdf_paths,desc = 'Resumes-PDF'):\n",
    "    #print(res_pdf_path)\n",
    "    directory, filename = os.path.split(res_pdf_path)\n",
    "    \n",
    "    pdfFileObj = open(res_pdf_path, 'rb') \n",
    "    \n",
    "    # creating a pdf reader object \n",
    "    pdfReader = PyPDF2.PdfFileReader(pdfFileObj) \n",
    "\n",
    "    # printing number of pages in pdf file \n",
    "    page = pdfReader.numPages\n",
    "    my_pdf_text = ''\n",
    "    for i in range(0,page):\n",
    "        pageObj = pdfReader.getPage(i) \n",
    "        x = ''\n",
    "        x = pageObj.extractText()\n",
    "        my_pdf_text = my_pdf_text+x\n",
    "    \n",
    "    \n",
    "    \n",
    "    my_pdf_text = my_pdf_text.replace(\",\",\", \")\n",
    "    my_pdf_text = re.sub(r'(\\w+?)\\(',r'\\1 (',my_pdf_text)\n",
    "    my_pdf_text = re.sub(r'([Ee][Mm][Aa][Ii][Ll]:)(\\w)',r'\\1 \\2',my_pdf_text)\n",
    "    url_pattern = re.compile(r'https?://\\S+|www\\.\\S+')\n",
    "    my_pdf_text = url_pattern.sub(r'', my_pdf_text)\n",
    "    \n",
    "    punctuation = \"!#$%'*;<=>?^`|~\"\n",
    "    tablePunctuation = str.maketrans('','',punctuation)\n",
    "    removepunctuation = my_pdf_text.translate(tablePunctuation)\n",
    "    removepunctuation = re.sub(r' +',' ',removepunctuation)\n",
    "    \n",
    "    dictionary ={\"text\":removepunctuation ,\"meta\":{\"source\":res_pdf_path}}\n",
    "    dic.append(dictionary)\n",
    "    "
   ]
  },
  {
   "cell_type": "code",
   "execution_count": null,
   "id": "eaefaf58",
   "metadata": {},
   "outputs": [],
   "source": [
    "with open(\"all_resumes.json\", \"w\") as final:\n",
    "    json.dump(dic, final)\n",
    "    print('\\n')"
   ]
  },
  {
   "cell_type": "code",
   "execution_count": null,
   "id": "dc90c08d",
   "metadata": {},
   "outputs": [],
   "source": []
  },
  {
   "cell_type": "code",
   "execution_count": null,
   "id": "12ffc46f",
   "metadata": {},
   "outputs": [],
   "source": [
    "def get_pdf_text(file):\n",
    "        '''\n",
    "        file : PDF file object\n",
    "        return text : str\n",
    "        '''\n",
    "        try:\n",
    "            with pdfplumber.open(file) as pdf:\n",
    "                pages = pdf.pages\n",
    "                combineText = []\n",
    "            for page in range(0,len(pages)):\n",
    "                page_obj = pdf.pages[page]\n",
    "                text = page_obj.extract_text()\n",
    "                combineText.append(text)\n",
    "            text = \" \".join(combineText)\n",
    "            return text\n",
    "        except Exception as e:\n",
    "            print(\"Unable to read the file\",e)\n",
    "            return False\n",
    "    def get_docx_text(file):\n",
    "        '''\n",
    "        file : DOCX file object\n",
    "        return text : str\n",
    "        '''\n",
    "        try:\n",
    "            text = docx2txt.process(file)\n",
    "            return text\n",
    "        except Exception as e:\n",
    "            print(\"Unprocessed entity\", e)\n",
    "            return False"
   ]
  },
  {
   "cell_type": "code",
   "execution_count": null,
   "id": "23698e0f",
   "metadata": {},
   "outputs": [],
   "source": []
  },
  {
   "cell_type": "code",
   "execution_count": null,
   "id": "940e1154",
   "metadata": {},
   "outputs": [],
   "source": []
  },
  {
   "cell_type": "code",
   "execution_count": null,
   "id": "d64358b4",
   "metadata": {},
   "outputs": [],
   "source": []
  },
  {
   "cell_type": "code",
   "execution_count": null,
   "id": "47514716",
   "metadata": {},
   "outputs": [],
   "source": []
  },
  {
   "cell_type": "code",
   "execution_count": null,
   "id": "25171d87",
   "metadata": {},
   "outputs": [],
   "source": []
  }
 ],
 "metadata": {
  "kernelspec": {
   "display_name": "Python 3 (ipykernel)",
   "language": "python",
   "name": "python3"
  },
  "language_info": {
   "codemirror_mode": {
    "name": "ipython",
    "version": 3
   },
   "file_extension": ".py",
   "mimetype": "text/x-python",
   "name": "python",
   "nbconvert_exporter": "python",
   "pygments_lexer": "ipython3",
   "version": "3.9.7"
  }
 },
 "nbformat": 4,
 "nbformat_minor": 5
}
