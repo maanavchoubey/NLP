{
 "cells": [
  {
   "cell_type": "code",
   "execution_count": 1,
   "id": "2597a0cb",
   "metadata": {},
   "outputs": [],
   "source": [
    "import tensorflow as tf\n",
    "from keras.preprocessing.image import ImageDataGenerator"
   ]
  },
  {
   "cell_type": "code",
   "execution_count": 2,
   "id": "6ae1b80f",
   "metadata": {},
   "outputs": [
    {
     "data": {
      "text/plain": [
       "'2.8.0'"
      ]
     },
     "execution_count": 2,
     "metadata": {},
     "output_type": "execute_result"
    }
   ],
   "source": [
    "tf.__version__"
   ]
  },
  {
   "cell_type": "code",
   "execution_count": 3,
   "id": "431c72fe",
   "metadata": {},
   "outputs": [
    {
     "name": "stdout",
     "output_type": "stream",
     "text": [
      "Found 8000 images belonging to 2 classes.\n"
     ]
    }
   ],
   "source": [
    "train_datagen = ImageDataGenerator(rescale = 1./255,\n",
    "                                   shear_range = 0.2,\n",
    "                                   zoom_range = 0.2,\n",
    "                                   horizontal_flip = True)\n",
    "training_set = train_datagen.flow_from_directory('D:/Deep_Learning/Section 40 - Convolutional Neural Networks (CNN)/dataset/training_set',\n",
    "                                                 target_size = (64, 64),\n",
    "                                                 batch_size = 32,\n",
    "                                                 class_mode = 'binary')"
   ]
  },
  {
   "cell_type": "code",
   "execution_count": 4,
   "id": "9257332b",
   "metadata": {},
   "outputs": [
    {
     "name": "stdout",
     "output_type": "stream",
     "text": [
      "Found 2000 images belonging to 2 classes.\n"
     ]
    }
   ],
   "source": [
    "test_datagen = ImageDataGenerator(rescale = 1./255)\n",
    "test_set = test_datagen.flow_from_directory('D:/Deep_Learning/Section 40 - Convolutional Neural Networks (CNN)/dataset/test_set',\n",
    "                                            target_size = (64, 64),\n",
    "                                            batch_size = 32,\n",
    "                                            class_mode = 'binary')"
   ]
  },
  {
   "cell_type": "code",
   "execution_count": 5,
   "id": "fe348b01",
   "metadata": {},
   "outputs": [],
   "source": [
    "cnn = tf.keras.models.Sequential()"
   ]
  },
  {
   "cell_type": "code",
   "execution_count": 6,
   "id": "e401beac",
   "metadata": {},
   "outputs": [],
   "source": [
    "cnn.add(tf.keras.layers.Conv2D(filters=32, kernel_size=3, activation='relu', input_shape=[64, 64, 3]))"
   ]
  },
  {
   "cell_type": "code",
   "execution_count": 7,
   "id": "c925cb82",
   "metadata": {},
   "outputs": [],
   "source": [
    "cnn.add(tf.keras.layers.MaxPool2D(pool_size=2, strides=2))"
   ]
  },
  {
   "cell_type": "code",
   "execution_count": 8,
   "id": "51979b3f",
   "metadata": {},
   "outputs": [],
   "source": [
    "cnn.add(tf.keras.layers.Conv2D(filters=32, kernel_size=3, activation='relu'))\n",
    "cnn.add(tf.keras.layers.MaxPool2D(pool_size=2, strides=2))"
   ]
  },
  {
   "cell_type": "code",
   "execution_count": 9,
   "id": "ff2c6c1d",
   "metadata": {},
   "outputs": [],
   "source": [
    "cnn.add(tf.keras.layers.Flatten())"
   ]
  },
  {
   "cell_type": "code",
   "execution_count": 10,
   "id": "3f793483",
   "metadata": {},
   "outputs": [],
   "source": [
    "cnn.add(tf.keras.layers.Dense(units=128, activation='relu'))"
   ]
  },
  {
   "cell_type": "code",
   "execution_count": 11,
   "id": "3cbdc105",
   "metadata": {},
   "outputs": [],
   "source": [
    "cnn.add(tf.keras.layers.Dense(units=1, activation='sigmoid'))"
   ]
  },
  {
   "cell_type": "code",
   "execution_count": 12,
   "id": "33c94384",
   "metadata": {},
   "outputs": [],
   "source": [
    "cnn.compile(optimizer = 'adam', loss = 'binary_crossentropy', metrics = ['accuracy'])"
   ]
  },
  {
   "cell_type": "code",
   "execution_count": 13,
   "id": "ef1e172a",
   "metadata": {},
   "outputs": [
    {
     "name": "stdout",
     "output_type": "stream",
     "text": [
      "Epoch 1/50\n",
      "250/250 [==============================] - 53s 209ms/step - loss: 0.6743 - accuracy: 0.5845 - val_loss: 0.6221 - val_accuracy: 0.6600\n",
      "Epoch 2/50\n",
      "250/250 [==============================] - 29s 117ms/step - loss: 0.6267 - accuracy: 0.6550 - val_loss: 0.5829 - val_accuracy: 0.6905\n",
      "Epoch 3/50\n",
      "250/250 [==============================] - 28s 113ms/step - loss: 0.5798 - accuracy: 0.6945 - val_loss: 0.5613 - val_accuracy: 0.7210\n",
      "Epoch 4/50\n",
      "250/250 [==============================] - 29s 114ms/step - loss: 0.5443 - accuracy: 0.7226 - val_loss: 0.5379 - val_accuracy: 0.7345\n",
      "Epoch 5/50\n",
      "250/250 [==============================] - 29s 115ms/step - loss: 0.5155 - accuracy: 0.7484 - val_loss: 0.5568 - val_accuracy: 0.7275\n",
      "Epoch 6/50\n",
      "250/250 [==============================] - 29s 114ms/step - loss: 0.5065 - accuracy: 0.7494 - val_loss: 0.5011 - val_accuracy: 0.7545\n",
      "Epoch 7/50\n",
      "250/250 [==============================] - 28s 114ms/step - loss: 0.4740 - accuracy: 0.7714 - val_loss: 0.4972 - val_accuracy: 0.7585\n",
      "Epoch 8/50\n",
      "250/250 [==============================] - 29s 114ms/step - loss: 0.4573 - accuracy: 0.7830 - val_loss: 0.5216 - val_accuracy: 0.7470\n",
      "Epoch 9/50\n",
      "250/250 [==============================] - 28s 113ms/step - loss: 0.4459 - accuracy: 0.7879 - val_loss: 0.4864 - val_accuracy: 0.7690\n",
      "Epoch 10/50\n",
      "250/250 [==============================] - 28s 110ms/step - loss: 0.4313 - accuracy: 0.8005 - val_loss: 0.5022 - val_accuracy: 0.7755\n",
      "Epoch 11/50\n",
      "250/250 [==============================] - 28s 113ms/step - loss: 0.4117 - accuracy: 0.8041 - val_loss: 0.4804 - val_accuracy: 0.7730\n",
      "Epoch 12/50\n",
      "250/250 [==============================] - 29s 116ms/step - loss: 0.4007 - accuracy: 0.8195 - val_loss: 0.5209 - val_accuracy: 0.7710\n",
      "Epoch 13/50\n",
      "250/250 [==============================] - 28s 113ms/step - loss: 0.3835 - accuracy: 0.8275 - val_loss: 0.5425 - val_accuracy: 0.7610\n",
      "Epoch 14/50\n",
      "250/250 [==============================] - 28s 113ms/step - loss: 0.3631 - accuracy: 0.8363 - val_loss: 0.5020 - val_accuracy: 0.7850\n",
      "Epoch 15/50\n",
      "250/250 [==============================] - 28s 113ms/step - loss: 0.3459 - accuracy: 0.8443 - val_loss: 0.5095 - val_accuracy: 0.7925\n",
      "Epoch 16/50\n",
      "250/250 [==============================] - 28s 113ms/step - loss: 0.3386 - accuracy: 0.8526 - val_loss: 0.5317 - val_accuracy: 0.7735\n",
      "Epoch 17/50\n",
      "250/250 [==============================] - 28s 113ms/step - loss: 0.3155 - accuracy: 0.8584 - val_loss: 0.5327 - val_accuracy: 0.7875\n",
      "Epoch 18/50\n",
      "250/250 [==============================] - 28s 114ms/step - loss: 0.2960 - accuracy: 0.8709 - val_loss: 0.5506 - val_accuracy: 0.7675\n",
      "Epoch 19/50\n",
      "250/250 [==============================] - 29s 114ms/step - loss: 0.2905 - accuracy: 0.8780 - val_loss: 0.5464 - val_accuracy: 0.7715\n",
      "Epoch 20/50\n",
      "250/250 [==============================] - 29s 114ms/step - loss: 0.2658 - accuracy: 0.8874 - val_loss: 0.6130 - val_accuracy: 0.7770\n",
      "Epoch 21/50\n",
      "250/250 [==============================] - 28s 113ms/step - loss: 0.2500 - accuracy: 0.8985 - val_loss: 0.5805 - val_accuracy: 0.7755\n",
      "Epoch 22/50\n",
      "250/250 [==============================] - 29s 116ms/step - loss: 0.2431 - accuracy: 0.9007 - val_loss: 0.5757 - val_accuracy: 0.7755\n",
      "Epoch 23/50\n",
      "250/250 [==============================] - 28s 113ms/step - loss: 0.2265 - accuracy: 0.9072 - val_loss: 0.6065 - val_accuracy: 0.7640\n",
      "Epoch 24/50\n",
      "250/250 [==============================] - 29s 114ms/step - loss: 0.2097 - accuracy: 0.9133 - val_loss: 0.5828 - val_accuracy: 0.7760\n",
      "Epoch 25/50\n",
      "250/250 [==============================] - 28s 113ms/step - loss: 0.1907 - accuracy: 0.9240 - val_loss: 0.6528 - val_accuracy: 0.7815\n",
      "Epoch 26/50\n",
      "250/250 [==============================] - 29s 114ms/step - loss: 0.1804 - accuracy: 0.9281 - val_loss: 0.6099 - val_accuracy: 0.7775\n",
      "Epoch 27/50\n",
      "250/250 [==============================] - 28s 114ms/step - loss: 0.1738 - accuracy: 0.9271 - val_loss: 0.6914 - val_accuracy: 0.7690\n",
      "Epoch 28/50\n",
      "250/250 [==============================] - 28s 113ms/step - loss: 0.1524 - accuracy: 0.9414 - val_loss: 0.6920 - val_accuracy: 0.7770\n",
      "Epoch 29/50\n",
      "250/250 [==============================] - 28s 113ms/step - loss: 0.1544 - accuracy: 0.9366 - val_loss: 0.7162 - val_accuracy: 0.7735\n",
      "Epoch 30/50\n",
      "250/250 [==============================] - 29s 114ms/step - loss: 0.1537 - accuracy: 0.9391 - val_loss: 0.7397 - val_accuracy: 0.7670\n",
      "Epoch 31/50\n",
      "250/250 [==============================] - 28s 112ms/step - loss: 0.1382 - accuracy: 0.9460 - val_loss: 0.7499 - val_accuracy: 0.7750\n",
      "Epoch 32/50\n",
      "250/250 [==============================] - 27s 108ms/step - loss: 0.1353 - accuracy: 0.9476 - val_loss: 0.7903 - val_accuracy: 0.7755\n",
      "Epoch 33/50\n",
      "250/250 [==============================] - 27s 108ms/step - loss: 0.1267 - accuracy: 0.9484 - val_loss: 0.7764 - val_accuracy: 0.7745\n",
      "Epoch 34/50\n",
      "250/250 [==============================] - 28s 114ms/step - loss: 0.1162 - accuracy: 0.9553 - val_loss: 0.8675 - val_accuracy: 0.7625\n",
      "Epoch 35/50\n",
      "250/250 [==============================] - 28s 112ms/step - loss: 0.1108 - accuracy: 0.9585 - val_loss: 0.9292 - val_accuracy: 0.7670\n",
      "Epoch 36/50\n",
      "250/250 [==============================] - 28s 112ms/step - loss: 0.1167 - accuracy: 0.9541 - val_loss: 0.8426 - val_accuracy: 0.7695\n",
      "Epoch 37/50\n",
      "250/250 [==============================] - 28s 111ms/step - loss: 0.1041 - accuracy: 0.9604 - val_loss: 0.8447 - val_accuracy: 0.7670\n",
      "Epoch 38/50\n",
      "250/250 [==============================] - 28s 111ms/step - loss: 0.0943 - accuracy: 0.9645 - val_loss: 0.9696 - val_accuracy: 0.7570\n",
      "Epoch 39/50\n",
      "250/250 [==============================] - 28s 112ms/step - loss: 0.0992 - accuracy: 0.9614 - val_loss: 0.8995 - val_accuracy: 0.7680\n",
      "Epoch 40/50\n",
      "250/250 [==============================] - 28s 112ms/step - loss: 0.0961 - accuracy: 0.9646 - val_loss: 0.9358 - val_accuracy: 0.7650\n",
      "Epoch 41/50\n",
      "250/250 [==============================] - 28s 111ms/step - loss: 0.0874 - accuracy: 0.9664 - val_loss: 0.9244 - val_accuracy: 0.7700\n",
      "Epoch 42/50\n",
      "250/250 [==============================] - 28s 112ms/step - loss: 0.0945 - accuracy: 0.9638 - val_loss: 0.9395 - val_accuracy: 0.7820\n",
      "Epoch 43/50\n",
      "250/250 [==============================] - 28s 112ms/step - loss: 0.0908 - accuracy: 0.9684 - val_loss: 0.9832 - val_accuracy: 0.7735\n",
      "Epoch 44/50\n",
      "250/250 [==============================] - 28s 113ms/step - loss: 0.0829 - accuracy: 0.9679 - val_loss: 0.9590 - val_accuracy: 0.7675\n",
      "Epoch 45/50\n",
      "250/250 [==============================] - 29s 115ms/step - loss: 0.0766 - accuracy: 0.9734 - val_loss: 1.0534 - val_accuracy: 0.7730\n",
      "Epoch 46/50\n",
      "250/250 [==============================] - 28s 114ms/step - loss: 0.0687 - accuracy: 0.9737 - val_loss: 1.1028 - val_accuracy: 0.7595\n",
      "Epoch 47/50\n",
      "250/250 [==============================] - 29s 116ms/step - loss: 0.0695 - accuracy: 0.9766 - val_loss: 1.0044 - val_accuracy: 0.7745\n",
      "Epoch 48/50\n",
      "250/250 [==============================] - 29s 114ms/step - loss: 0.0872 - accuracy: 0.9693 - val_loss: 0.9491 - val_accuracy: 0.7710\n",
      "Epoch 49/50\n",
      "250/250 [==============================] - 29s 116ms/step - loss: 0.0736 - accuracy: 0.9744 - val_loss: 0.9977 - val_accuracy: 0.7800\n",
      "Epoch 50/50\n",
      "250/250 [==============================] - 29s 115ms/step - loss: 0.0556 - accuracy: 0.9803 - val_loss: 1.0354 - val_accuracy: 0.7720\n"
     ]
    },
    {
     "data": {
      "text/plain": [
       "<keras.callbacks.History at 0x1f59121cac0>"
      ]
     },
     "execution_count": 13,
     "metadata": {},
     "output_type": "execute_result"
    }
   ],
   "source": [
    "cnn.fit(x = training_set, validation_data = test_set, epochs = 50)"
   ]
  },
  {
   "cell_type": "code",
   "execution_count": 19,
   "id": "f81c9982",
   "metadata": {},
   "outputs": [],
   "source": [
    "import numpy as np\n",
    "from keras.preprocessing import image\n",
    "test_image = image.load_img('C:/Users/codiant/Downloads/MicrosoftTeams-image.png', target_size = (64, 64))\n",
    "test_image = image.img_to_array(test_image)\n",
    "test_image = np.expand_dims(test_image, axis = 0)\n",
    "result = cnn.predict(test_image)\n",
    "training_set.class_indices\n",
    "if result[0][0] == 1:\n",
    "    prediction = 'dog'\n",
    "else:\n",
    "    prediction = 'cat'"
   ]
  },
  {
   "cell_type": "code",
   "execution_count": 20,
   "id": "28911ffc",
   "metadata": {},
   "outputs": [
    {
     "name": "stdout",
     "output_type": "stream",
     "text": [
      "dog\n"
     ]
    }
   ],
   "source": [
    "print(prediction)"
   ]
  },
  {
   "cell_type": "code",
   "execution_count": 21,
   "id": "5935f8d1",
   "metadata": {},
   "outputs": [],
   "source": [
    "cnn.save('C:/Users/codiant/Desktop/models/harsh_cat.h5')"
   ]
  },
  {
   "cell_type": "code",
   "execution_count": 22,
   "id": "de76fdfa",
   "metadata": {},
   "outputs": [],
   "source": [
    "test_image = image.load_img('D:/Deep_Learning/Section 40 - Convolutional Neural Networks (CNN)/dataset/single_prediction/cat_or_dog_2.jpg', target_size = (64, 64))\n",
    "test_image = image.img_to_array(test_image)\n",
    "test_image = np.expand_dims(test_image, axis = 0)\n",
    "result = cnn.predict(test_image)\n",
    "training_set.class_indices\n",
    "if result[0][0] == 1:\n",
    "    prediction = 'dog'\n",
    "else:\n",
    "    prediction = 'cat'"
   ]
  },
  {
   "cell_type": "code",
   "execution_count": 23,
   "id": "ad2c3d7a",
   "metadata": {},
   "outputs": [
    {
     "name": "stdout",
     "output_type": "stream",
     "text": [
      "cat\n"
     ]
    }
   ],
   "source": [
    "print(prediction)"
   ]
  },
  {
   "cell_type": "code",
   "execution_count": 1,
   "id": "d9c622ae",
   "metadata": {},
   "outputs": [
    {
     "name": "stderr",
     "output_type": "stream",
     "text": [
      "2022-04-11 14:52:22.458014: W tensorflow/stream_executor/platform/default/dso_loader.cc:64] Could not load dynamic library 'libcudart.so.11.0'; dlerror: libcudart.so.11.0: cannot open shared object file: No such file or directory\n",
      "2022-04-11 14:52:22.458033: I tensorflow/stream_executor/cuda/cudart_stub.cc:29] Ignore above cudart dlerror if you do not have a GPU set up on your machine.\n",
      "2022-04-11 14:52:23.771512: W tensorflow/stream_executor/platform/default/dso_loader.cc:64] Could not load dynamic library 'libcuda.so.1'; dlerror: libcuda.so.1: cannot open shared object file: No such file or directory\n",
      "2022-04-11 14:52:23.771530: W tensorflow/stream_executor/cuda/cuda_driver.cc:269] failed call to cuInit: UNKNOWN ERROR (303)\n",
      "2022-04-11 14:52:23.771542: I tensorflow/stream_executor/cuda/cuda_diagnostics.cc:156] kernel driver does not appear to be running on this host (codiant): /proc/driver/nvidia/version does not exist\n",
      "2022-04-11 14:52:23.771683: I tensorflow/core/platform/cpu_feature_guard.cc:151] This TensorFlow binary is optimized with oneAPI Deep Neural Network Library (oneDNN) to use the following CPU instructions in performance-critical operations:  AVX2 FMA\n",
      "To enable them in other operations, rebuild TensorFlow with the appropriate compiler flags.\n"
     ]
    }
   ],
   "source": []
  },
  {
   "cell_type": "code",
   "execution_count": 2,
   "id": "ff001edd",
   "metadata": {},
   "outputs": [
    {
     "data": {
      "text/plain": [
       "'person'"
      ]
     },
     "execution_count": 2,
     "metadata": {},
     "output_type": "execute_result"
    }
   ],
   "source": [
    "prediction"
   ]
  },
  {
   "cell_type": "code",
   "execution_count": null,
   "id": "259ebe63",
   "metadata": {},
   "outputs": [],
   "source": []
  }
 ],
 "metadata": {
  "kernelspec": {
   "display_name": "Python 3 (ipykernel)",
   "language": "python",
   "name": "python3"
  },
  "language_info": {
   "codemirror_mode": {
    "name": "ipython",
    "version": 3
   },
   "file_extension": ".py",
   "mimetype": "text/x-python",
   "name": "python",
   "nbconvert_exporter": "python",
   "pygments_lexer": "ipython3",
   "version": "3.9.7"
  }
 },
 "nbformat": 4,
 "nbformat_minor": 5
}
