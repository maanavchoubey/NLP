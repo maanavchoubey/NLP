{
 "cells": [
  {
   "cell_type": "markdown",
   "id": "9046fb2b",
   "metadata": {},
   "source": [
    "# ANN"
   ]
  },
  {
   "cell_type": "code",
   "execution_count": 1,
   "id": "5ac62365",
   "metadata": {},
   "outputs": [],
   "source": [
    "import numpy as np\n",
    "import pandas as pd\n",
    "import tensorflow as tf"
   ]
  },
  {
   "cell_type": "code",
   "execution_count": 2,
   "id": "aff85a5e",
   "metadata": {},
   "outputs": [
    {
     "data": {
      "text/plain": [
       "'2.8.0'"
      ]
     },
     "execution_count": 2,
     "metadata": {},
     "output_type": "execute_result"
    }
   ],
   "source": [
    "tf.__version__"
   ]
  },
  {
   "cell_type": "code",
   "execution_count": 3,
   "id": "1dc4abbd",
   "metadata": {},
   "outputs": [
    {
     "data": {
      "text/html": [
       "<div>\n",
       "<style scoped>\n",
       "    .dataframe tbody tr th:only-of-type {\n",
       "        vertical-align: middle;\n",
       "    }\n",
       "\n",
       "    .dataframe tbody tr th {\n",
       "        vertical-align: top;\n",
       "    }\n",
       "\n",
       "    .dataframe thead th {\n",
       "        text-align: right;\n",
       "    }\n",
       "</style>\n",
       "<table border=\"1\" class=\"dataframe\">\n",
       "  <thead>\n",
       "    <tr style=\"text-align: right;\">\n",
       "      <th></th>\n",
       "      <th>RowNumber</th>\n",
       "      <th>CustomerId</th>\n",
       "      <th>Surname</th>\n",
       "      <th>CreditScore</th>\n",
       "      <th>Geography</th>\n",
       "      <th>Gender</th>\n",
       "      <th>Age</th>\n",
       "      <th>Tenure</th>\n",
       "      <th>Balance</th>\n",
       "      <th>NumOfProducts</th>\n",
       "      <th>HasCrCard</th>\n",
       "      <th>IsActiveMember</th>\n",
       "      <th>EstimatedSalary</th>\n",
       "      <th>Exited</th>\n",
       "    </tr>\n",
       "  </thead>\n",
       "  <tbody>\n",
       "    <tr>\n",
       "      <th>0</th>\n",
       "      <td>1</td>\n",
       "      <td>15634602</td>\n",
       "      <td>Hargrave</td>\n",
       "      <td>619</td>\n",
       "      <td>France</td>\n",
       "      <td>Female</td>\n",
       "      <td>42</td>\n",
       "      <td>2</td>\n",
       "      <td>0.00</td>\n",
       "      <td>1</td>\n",
       "      <td>1</td>\n",
       "      <td>1</td>\n",
       "      <td>101348.88</td>\n",
       "      <td>1</td>\n",
       "    </tr>\n",
       "    <tr>\n",
       "      <th>1</th>\n",
       "      <td>2</td>\n",
       "      <td>15647311</td>\n",
       "      <td>Hill</td>\n",
       "      <td>608</td>\n",
       "      <td>Spain</td>\n",
       "      <td>Female</td>\n",
       "      <td>41</td>\n",
       "      <td>1</td>\n",
       "      <td>83807.86</td>\n",
       "      <td>1</td>\n",
       "      <td>0</td>\n",
       "      <td>1</td>\n",
       "      <td>112542.58</td>\n",
       "      <td>0</td>\n",
       "    </tr>\n",
       "    <tr>\n",
       "      <th>2</th>\n",
       "      <td>3</td>\n",
       "      <td>15619304</td>\n",
       "      <td>Onio</td>\n",
       "      <td>502</td>\n",
       "      <td>France</td>\n",
       "      <td>Female</td>\n",
       "      <td>42</td>\n",
       "      <td>8</td>\n",
       "      <td>159660.80</td>\n",
       "      <td>3</td>\n",
       "      <td>1</td>\n",
       "      <td>0</td>\n",
       "      <td>113931.57</td>\n",
       "      <td>1</td>\n",
       "    </tr>\n",
       "    <tr>\n",
       "      <th>3</th>\n",
       "      <td>4</td>\n",
       "      <td>15701354</td>\n",
       "      <td>Boni</td>\n",
       "      <td>699</td>\n",
       "      <td>France</td>\n",
       "      <td>Female</td>\n",
       "      <td>39</td>\n",
       "      <td>1</td>\n",
       "      <td>0.00</td>\n",
       "      <td>2</td>\n",
       "      <td>0</td>\n",
       "      <td>0</td>\n",
       "      <td>93826.63</td>\n",
       "      <td>0</td>\n",
       "    </tr>\n",
       "    <tr>\n",
       "      <th>4</th>\n",
       "      <td>5</td>\n",
       "      <td>15737888</td>\n",
       "      <td>Mitchell</td>\n",
       "      <td>850</td>\n",
       "      <td>Spain</td>\n",
       "      <td>Female</td>\n",
       "      <td>43</td>\n",
       "      <td>2</td>\n",
       "      <td>125510.82</td>\n",
       "      <td>1</td>\n",
       "      <td>1</td>\n",
       "      <td>1</td>\n",
       "      <td>79084.10</td>\n",
       "      <td>0</td>\n",
       "    </tr>\n",
       "  </tbody>\n",
       "</table>\n",
       "</div>"
      ],
      "text/plain": [
       "   RowNumber  CustomerId   Surname  CreditScore Geography  Gender  Age  \\\n",
       "0          1    15634602  Hargrave          619    France  Female   42   \n",
       "1          2    15647311      Hill          608     Spain  Female   41   \n",
       "2          3    15619304      Onio          502    France  Female   42   \n",
       "3          4    15701354      Boni          699    France  Female   39   \n",
       "4          5    15737888  Mitchell          850     Spain  Female   43   \n",
       "\n",
       "   Tenure    Balance  NumOfProducts  HasCrCard  IsActiveMember  \\\n",
       "0       2       0.00              1          1               1   \n",
       "1       1   83807.86              1          0               1   \n",
       "2       8  159660.80              3          1               0   \n",
       "3       1       0.00              2          0               0   \n",
       "4       2  125510.82              1          1               1   \n",
       "\n",
       "   EstimatedSalary  Exited  \n",
       "0        101348.88       1  \n",
       "1        112542.58       0  \n",
       "2        113931.57       1  \n",
       "3         93826.63       0  \n",
       "4         79084.10       0  "
      ]
     },
     "execution_count": 3,
     "metadata": {},
     "output_type": "execute_result"
    }
   ],
   "source": [
    "dataset = pd.read_csv('D:/Deep_Learning/Churn_Modelling.csv')\n",
    "X = dataset.iloc[:, 3:-1].values\n",
    "y = dataset.iloc[:, -1].values\n",
    "dataset.head()"
   ]
  },
  {
   "cell_type": "code",
   "execution_count": 4,
   "id": "4e66345d",
   "metadata": {},
   "outputs": [
    {
     "name": "stdout",
     "output_type": "stream",
     "text": [
      "[[619 'France' 'Female' ... 1 1 101348.88]\n",
      " [608 'Spain' 'Female' ... 0 1 112542.58]\n",
      " [502 'France' 'Female' ... 1 0 113931.57]\n",
      " ...\n",
      " [709 'France' 'Female' ... 0 1 42085.58]\n",
      " [772 'Germany' 'Male' ... 1 0 92888.52]\n",
      " [792 'France' 'Female' ... 1 0 38190.78]]\n"
     ]
    }
   ],
   "source": [
    "print(X)"
   ]
  },
  {
   "cell_type": "code",
   "execution_count": 5,
   "id": "d347ab0e",
   "metadata": {},
   "outputs": [
    {
     "name": "stdout",
     "output_type": "stream",
     "text": [
      "[1 0 1 ... 1 1 0]\n"
     ]
    }
   ],
   "source": [
    "print(y)"
   ]
  },
  {
   "cell_type": "code",
   "execution_count": 6,
   "id": "96598399",
   "metadata": {},
   "outputs": [],
   "source": [
    "from sklearn.preprocessing import LabelEncoder\n",
    "le = LabelEncoder()\n",
    "X[:, 2] = le.fit_transform(X[:, 2])"
   ]
  },
  {
   "cell_type": "code",
   "execution_count": 7,
   "id": "25ed8fe3",
   "metadata": {},
   "outputs": [
    {
     "name": "stdout",
     "output_type": "stream",
     "text": [
      "[[619 'France' 0 ... 1 1 101348.88]\n",
      " [608 'Spain' 0 ... 0 1 112542.58]\n",
      " [502 'France' 0 ... 1 0 113931.57]\n",
      " ...\n",
      " [709 'France' 0 ... 0 1 42085.58]\n",
      " [772 'Germany' 1 ... 1 0 92888.52]\n",
      " [792 'France' 0 ... 1 0 38190.78]]\n"
     ]
    }
   ],
   "source": [
    "print(X)"
   ]
  },
  {
   "cell_type": "code",
   "execution_count": 8,
   "id": "91b61f2c",
   "metadata": {},
   "outputs": [],
   "source": [
    "from sklearn.compose import ColumnTransformer\n",
    "from sklearn.preprocessing import OneHotEncoder\n",
    "ct = ColumnTransformer(transformers=[('encoder', OneHotEncoder(), [1])], remainder='passthrough')\n",
    "X = np.array(ct.fit_transform(X))"
   ]
  },
  {
   "cell_type": "code",
   "execution_count": 9,
   "id": "ab3e341e",
   "metadata": {},
   "outputs": [
    {
     "name": "stdout",
     "output_type": "stream",
     "text": [
      "[[1.0 0.0 0.0 ... 1 1 101348.88]\n",
      " [0.0 0.0 1.0 ... 0 1 112542.58]\n",
      " [1.0 0.0 0.0 ... 1 0 113931.57]\n",
      " ...\n",
      " [1.0 0.0 0.0 ... 0 1 42085.58]\n",
      " [0.0 1.0 0.0 ... 1 0 92888.52]\n",
      " [1.0 0.0 0.0 ... 1 0 38190.78]]\n"
     ]
    }
   ],
   "source": [
    "print(X)"
   ]
  },
  {
   "cell_type": "code",
   "execution_count": 10,
   "id": "e1205a54",
   "metadata": {},
   "outputs": [],
   "source": [
    "from sklearn.model_selection import train_test_split\n",
    "X_train, X_test, y_train, y_test = train_test_split(X, y, test_size = 0.2, random_state = 0)"
   ]
  },
  {
   "cell_type": "code",
   "execution_count": 11,
   "id": "e9027eb0",
   "metadata": {},
   "outputs": [],
   "source": [
    "from sklearn.preprocessing import StandardScaler\n",
    "sc = StandardScaler()\n",
    "X_train = sc.fit_transform(X_train)\n",
    "X_test = sc.transform(X_test)"
   ]
  },
  {
   "cell_type": "code",
   "execution_count": 12,
   "id": "71c3c754",
   "metadata": {},
   "outputs": [],
   "source": [
    "ann = tf.keras.models.Sequential()"
   ]
  },
  {
   "cell_type": "code",
   "execution_count": 13,
   "id": "4cede4b5",
   "metadata": {},
   "outputs": [],
   "source": [
    "ann.add(tf.keras.layers.Dense(units=6, activation='relu')) "
   ]
  },
  {
   "cell_type": "code",
   "execution_count": 14,
   "id": "e78b19cc",
   "metadata": {},
   "outputs": [],
   "source": [
    "ann.add(tf.keras.layers.Dense(units=6, activation='relu'))"
   ]
  },
  {
   "cell_type": "code",
   "execution_count": 15,
   "id": "e7f6743b",
   "metadata": {},
   "outputs": [],
   "source": [
    "ann.add(tf.keras.layers.Dense(units=1, activation='sigmoid'))"
   ]
  },
  {
   "cell_type": "code",
   "execution_count": 16,
   "id": "33cf175e",
   "metadata": {},
   "outputs": [],
   "source": [
    "ann.compile(optimizer = 'adam', loss = 'binary_crossentropy', metrics = ['accuracy']) "
   ]
  },
  {
   "cell_type": "code",
   "execution_count": 17,
   "id": "cfb08802",
   "metadata": {},
   "outputs": [
    {
     "name": "stdout",
     "output_type": "stream",
     "text": [
      "Epoch 1/100\n",
      "250/250 [==============================] - 0s 594us/step - loss: 0.5735 - accuracy: 0.7044\n",
      "Epoch 2/100\n",
      "250/250 [==============================] - 0s 558us/step - loss: 0.4512 - accuracy: 0.7971\n",
      "Epoch 3/100\n",
      "250/250 [==============================] - 0s 565us/step - loss: 0.4259 - accuracy: 0.8119\n",
      "Epoch 4/100\n",
      "250/250 [==============================] - 0s 561us/step - loss: 0.4128 - accuracy: 0.8170\n",
      "Epoch 5/100\n",
      "250/250 [==============================] - 0s 532us/step - loss: 0.4021 - accuracy: 0.8225\n",
      "Epoch 6/100\n",
      "250/250 [==============================] - 0s 524us/step - loss: 0.3925 - accuracy: 0.8300\n",
      "Epoch 7/100\n",
      "250/250 [==============================] - 0s 549us/step - loss: 0.3852 - accuracy: 0.8326\n",
      "Epoch 8/100\n",
      "250/250 [==============================] - 0s 545us/step - loss: 0.3788 - accuracy: 0.8376\n",
      "Epoch 9/100\n",
      "250/250 [==============================] - 0s 528us/step - loss: 0.3735 - accuracy: 0.8393\n",
      "Epoch 10/100\n",
      "250/250 [==============================] - 0s 535us/step - loss: 0.3697 - accuracy: 0.8416\n",
      "Epoch 11/100\n",
      "250/250 [==============================] - 0s 561us/step - loss: 0.3665 - accuracy: 0.8438\n",
      "Epoch 12/100\n",
      "250/250 [==============================] - 0s 537us/step - loss: 0.3632 - accuracy: 0.8459\n",
      "Epoch 13/100\n",
      "250/250 [==============================] - 0s 538us/step - loss: 0.3607 - accuracy: 0.8480\n",
      "Epoch 14/100\n",
      "250/250 [==============================] - 0s 538us/step - loss: 0.3583 - accuracy: 0.8481\n",
      "Epoch 15/100\n",
      "250/250 [==============================] - 0s 553us/step - loss: 0.3568 - accuracy: 0.8487\n",
      "Epoch 16/100\n",
      "250/250 [==============================] - 0s 537us/step - loss: 0.3552 - accuracy: 0.8499\n",
      "Epoch 17/100\n",
      "250/250 [==============================] - 0s 532us/step - loss: 0.3539 - accuracy: 0.8505\n",
      "Epoch 18/100\n",
      "250/250 [==============================] - 0s 529us/step - loss: 0.3529 - accuracy: 0.8494\n",
      "Epoch 19/100\n",
      "250/250 [==============================] - 0s 545us/step - loss: 0.3518 - accuracy: 0.8519\n",
      "Epoch 20/100\n",
      "250/250 [==============================] - 0s 565us/step - loss: 0.3510 - accuracy: 0.8522\n",
      "Epoch 21/100\n",
      "250/250 [==============================] - 0s 557us/step - loss: 0.3506 - accuracy: 0.8512\n",
      "Epoch 22/100\n",
      "250/250 [==============================] - 0s 533us/step - loss: 0.3501 - accuracy: 0.8525\n",
      "Epoch 23/100\n",
      "250/250 [==============================] - 0s 539us/step - loss: 0.3496 - accuracy: 0.8530\n",
      "Epoch 24/100\n",
      "250/250 [==============================] - 0s 539us/step - loss: 0.3491 - accuracy: 0.8516\n",
      "Epoch 25/100\n",
      "250/250 [==============================] - 0s 528us/step - loss: 0.3493 - accuracy: 0.8514\n",
      "Epoch 26/100\n",
      "250/250 [==============================] - 0s 531us/step - loss: 0.3488 - accuracy: 0.8535\n",
      "Epoch 27/100\n",
      "250/250 [==============================] - 0s 537us/step - loss: 0.3484 - accuracy: 0.8535\n",
      "Epoch 28/100\n",
      "250/250 [==============================] - 0s 529us/step - loss: 0.3485 - accuracy: 0.8531\n",
      "Epoch 29/100\n",
      "250/250 [==============================] - 0s 531us/step - loss: 0.3482 - accuracy: 0.8545\n",
      "Epoch 30/100\n",
      "250/250 [==============================] - 0s 539us/step - loss: 0.3483 - accuracy: 0.8536\n",
      "Epoch 31/100\n",
      "250/250 [==============================] - 0s 553us/step - loss: 0.3476 - accuracy: 0.8562\n",
      "Epoch 32/100\n",
      "250/250 [==============================] - 0s 542us/step - loss: 0.3477 - accuracy: 0.8550\n",
      "Epoch 33/100\n",
      "250/250 [==============================] - 0s 535us/step - loss: 0.3477 - accuracy: 0.8549\n",
      "Epoch 34/100\n",
      "250/250 [==============================] - 0s 550us/step - loss: 0.3471 - accuracy: 0.8545\n",
      "Epoch 35/100\n",
      "250/250 [==============================] - 0s 566us/step - loss: 0.3471 - accuracy: 0.8549\n",
      "Epoch 36/100\n",
      "250/250 [==============================] - 0s 553us/step - loss: 0.3471 - accuracy: 0.8543\n",
      "Epoch 37/100\n",
      "250/250 [==============================] - 0s 539us/step - loss: 0.3464 - accuracy: 0.8556\n",
      "Epoch 38/100\n",
      "250/250 [==============================] - 0s 559us/step - loss: 0.3469 - accuracy: 0.8571\n",
      "Epoch 39/100\n",
      "250/250 [==============================] - 0s 565us/step - loss: 0.3464 - accuracy: 0.8550\n",
      "Epoch 40/100\n",
      "250/250 [==============================] - 0s 539us/step - loss: 0.3463 - accuracy: 0.8551\n",
      "Epoch 41/100\n",
      "250/250 [==============================] - 0s 534us/step - loss: 0.3459 - accuracy: 0.8551\n",
      "Epoch 42/100\n",
      "250/250 [==============================] - 0s 549us/step - loss: 0.3459 - accuracy: 0.8566\n",
      "Epoch 43/100\n",
      "250/250 [==============================] - 0s 557us/step - loss: 0.3461 - accuracy: 0.8564\n",
      "Epoch 44/100\n",
      "250/250 [==============================] - 0s 536us/step - loss: 0.3458 - accuracy: 0.8562\n",
      "Epoch 45/100\n",
      "250/250 [==============================] - 0s 539us/step - loss: 0.3457 - accuracy: 0.8564\n",
      "Epoch 46/100\n",
      "250/250 [==============================] - 0s 541us/step - loss: 0.3455 - accuracy: 0.8564\n",
      "Epoch 47/100\n",
      "250/250 [==============================] - 0s 529us/step - loss: 0.3453 - accuracy: 0.8566\n",
      "Epoch 48/100\n",
      "250/250 [==============================] - 0s 544us/step - loss: 0.3445 - accuracy: 0.8554\n",
      "Epoch 49/100\n",
      "250/250 [==============================] - 0s 543us/step - loss: 0.3453 - accuracy: 0.8576\n",
      "Epoch 50/100\n",
      "250/250 [==============================] - 0s 559us/step - loss: 0.3449 - accuracy: 0.8569\n",
      "Epoch 51/100\n",
      "250/250 [==============================] - 0s 542us/step - loss: 0.3450 - accuracy: 0.8581\n",
      "Epoch 52/100\n",
      "250/250 [==============================] - 0s 539us/step - loss: 0.3448 - accuracy: 0.8579\n",
      "Epoch 53/100\n",
      "250/250 [==============================] - 0s 542us/step - loss: 0.3443 - accuracy: 0.8583\n",
      "Epoch 54/100\n",
      "250/250 [==============================] - 0s 533us/step - loss: 0.3445 - accuracy: 0.8576\n",
      "Epoch 55/100\n",
      "250/250 [==============================] - 0s 540us/step - loss: 0.3445 - accuracy: 0.8583\n",
      "Epoch 56/100\n",
      "250/250 [==============================] - 0s 553us/step - loss: 0.3441 - accuracy: 0.8574\n",
      "Epoch 57/100\n",
      "250/250 [==============================] - 0s 541us/step - loss: 0.3440 - accuracy: 0.8571\n",
      "Epoch 58/100\n",
      "250/250 [==============================] - 0s 557us/step - loss: 0.3439 - accuracy: 0.8571\n",
      "Epoch 59/100\n",
      "250/250 [==============================] - 0s 541us/step - loss: 0.3441 - accuracy: 0.8580\n",
      "Epoch 60/100\n",
      "250/250 [==============================] - 0s 540us/step - loss: 0.3439 - accuracy: 0.8583\n",
      "Epoch 61/100\n",
      "250/250 [==============================] - 0s 535us/step - loss: 0.3439 - accuracy: 0.8579\n",
      "Epoch 62/100\n",
      "250/250 [==============================] - 0s 535us/step - loss: 0.3431 - accuracy: 0.8593\n",
      "Epoch 63/100\n",
      "250/250 [==============================] - 0s 528us/step - loss: 0.3436 - accuracy: 0.8579\n",
      "Epoch 64/100\n",
      "250/250 [==============================] - 0s 531us/step - loss: 0.3434 - accuracy: 0.8590\n",
      "Epoch 65/100\n",
      "250/250 [==============================] - 0s 548us/step - loss: 0.3432 - accuracy: 0.8586\n",
      "Epoch 66/100\n",
      "250/250 [==============================] - 0s 540us/step - loss: 0.3430 - accuracy: 0.8584\n",
      "Epoch 67/100\n",
      "250/250 [==============================] - 0s 534us/step - loss: 0.3431 - accuracy: 0.8589\n",
      "Epoch 68/100\n",
      "250/250 [==============================] - 0s 536us/step - loss: 0.3430 - accuracy: 0.8584\n",
      "Epoch 69/100\n",
      "250/250 [==============================] - 0s 539us/step - loss: 0.3425 - accuracy: 0.8594\n",
      "Epoch 70/100\n",
      "250/250 [==============================] - 0s 533us/step - loss: 0.3424 - accuracy: 0.8587\n",
      "Epoch 71/100\n",
      "250/250 [==============================] - 0s 574us/step - loss: 0.3426 - accuracy: 0.8606\n",
      "Epoch 72/100\n",
      "250/250 [==============================] - 0s 546us/step - loss: 0.3423 - accuracy: 0.8574\n",
      "Epoch 73/100\n",
      "250/250 [==============================] - 0s 539us/step - loss: 0.3425 - accuracy: 0.8581\n",
      "Epoch 74/100\n",
      "250/250 [==============================] - 0s 538us/step - loss: 0.3422 - accuracy: 0.8597\n",
      "Epoch 75/100\n",
      "250/250 [==============================] - 0s 549us/step - loss: 0.3421 - accuracy: 0.8591\n",
      "Epoch 76/100\n",
      "250/250 [==============================] - 0s 542us/step - loss: 0.3418 - accuracy: 0.8591\n",
      "Epoch 77/100\n",
      "250/250 [==============================] - 0s 535us/step - loss: 0.3418 - accuracy: 0.8606\n",
      "Epoch 78/100\n",
      "250/250 [==============================] - 0s 552us/step - loss: 0.3416 - accuracy: 0.8594\n",
      "Epoch 79/100\n"
     ]
    },
    {
     "name": "stdout",
     "output_type": "stream",
     "text": [
      "250/250 [==============================] - 0s 551us/step - loss: 0.3415 - accuracy: 0.8615\n",
      "Epoch 80/100\n",
      "250/250 [==============================] - 0s 537us/step - loss: 0.3412 - accuracy: 0.8575\n",
      "Epoch 81/100\n",
      "250/250 [==============================] - 0s 547us/step - loss: 0.3411 - accuracy: 0.8596\n",
      "Epoch 82/100\n",
      "250/250 [==============================] - 0s 539us/step - loss: 0.3411 - accuracy: 0.8585\n",
      "Epoch 83/100\n",
      "250/250 [==============================] - 0s 536us/step - loss: 0.3408 - accuracy: 0.8606\n",
      "Epoch 84/100\n",
      "250/250 [==============================] - 0s 541us/step - loss: 0.3408 - accuracy: 0.8596\n",
      "Epoch 85/100\n",
      "250/250 [==============================] - 0s 545us/step - loss: 0.3410 - accuracy: 0.8583\n",
      "Epoch 86/100\n",
      "250/250 [==============================] - 0s 540us/step - loss: 0.3406 - accuracy: 0.8601\n",
      "Epoch 87/100\n",
      "250/250 [==============================] - 0s 544us/step - loss: 0.3405 - accuracy: 0.8591\n",
      "Epoch 88/100\n",
      "250/250 [==============================] - 0s 547us/step - loss: 0.3401 - accuracy: 0.8594\n",
      "Epoch 89/100\n",
      "250/250 [==============================] - 0s 542us/step - loss: 0.3403 - accuracy: 0.8589\n",
      "Epoch 90/100\n",
      "250/250 [==============================] - 0s 540us/step - loss: 0.3403 - accuracy: 0.8593\n",
      "Epoch 91/100\n",
      "250/250 [==============================] - 0s 539us/step - loss: 0.3403 - accuracy: 0.8614\n",
      "Epoch 92/100\n",
      "250/250 [==============================] - 0s 535us/step - loss: 0.3396 - accuracy: 0.8589\n",
      "Epoch 93/100\n",
      "250/250 [==============================] - 0s 549us/step - loss: 0.3396 - accuracy: 0.8608\n",
      "Epoch 94/100\n",
      "250/250 [==============================] - 0s 541us/step - loss: 0.3393 - accuracy: 0.8593\n",
      "Epoch 95/100\n",
      "250/250 [==============================] - 0s 543us/step - loss: 0.3397 - accuracy: 0.8602\n",
      "Epoch 96/100\n",
      "250/250 [==============================] - 0s 544us/step - loss: 0.3398 - accuracy: 0.8610\n",
      "Epoch 97/100\n",
      "250/250 [==============================] - 0s 543us/step - loss: 0.3393 - accuracy: 0.8616\n",
      "Epoch 98/100\n",
      "250/250 [==============================] - 0s 542us/step - loss: 0.3392 - accuracy: 0.8602\n",
      "Epoch 99/100\n",
      "250/250 [==============================] - 0s 548us/step - loss: 0.3388 - accuracy: 0.8618\n",
      "Epoch 100/100\n",
      "250/250 [==============================] - 0s 539us/step - loss: 0.3392 - accuracy: 0.8587\n"
     ]
    },
    {
     "data": {
      "text/plain": [
       "<keras.callbacks.History at 0x2848e04eee0>"
      ]
     },
     "execution_count": 17,
     "metadata": {},
     "output_type": "execute_result"
    }
   ],
   "source": [
    "ann.fit(X_train, y_train, batch_size = 32, epochs =  100)"
   ]
  },
  {
   "cell_type": "code",
   "execution_count": 18,
   "id": "00e59b76",
   "metadata": {},
   "outputs": [
    {
     "name": "stdout",
     "output_type": "stream",
     "text": [
      "[[False]]\n"
     ]
    }
   ],
   "source": [
    "print(ann.predict(sc.transform([[1, 0, 0, 600, 1, 40, 3, 60000, 2, 1, 1, 50000]]))>0.5) "
   ]
  },
  {
   "cell_type": "code",
   "execution_count": 19,
   "id": "e88ceaa3",
   "metadata": {},
   "outputs": [
    {
     "name": "stdout",
     "output_type": "stream",
     "text": [
      "[[0 0]\n",
      " [0 1]\n",
      " [0 0]\n",
      " ...\n",
      " [0 0]\n",
      " [0 0]\n",
      " [0 0]]\n"
     ]
    }
   ],
   "source": [
    "y_pred = ann.predict(X_test)\n",
    "y_pred = (y_pred > 0.5)\n",
    "print(np.concatenate((y_pred.reshape(len(y_pred),1), y_test.reshape(len(y_test),1)),1))"
   ]
  },
  {
   "cell_type": "code",
   "execution_count": 20,
   "id": "dac5663a",
   "metadata": {},
   "outputs": [
    {
     "name": "stdout",
     "output_type": "stream",
     "text": [
      "[[1518   77]\n",
      " [ 210  195]]\n"
     ]
    },
    {
     "data": {
      "text/plain": [
       "0.8565"
      ]
     },
     "execution_count": 20,
     "metadata": {},
     "output_type": "execute_result"
    }
   ],
   "source": [
    "from sklearn.metrics import confusion_matrix, accuracy_score\n",
    "cm = confusion_matrix(y_test, y_pred)\n",
    "print(cm)\n",
    "accuracy_score(y_test, y_pred)"
   ]
  },
  {
   "cell_type": "code",
   "execution_count": null,
   "id": "a15181d7",
   "metadata": {},
   "outputs": [],
   "source": []
  }
 ],
 "metadata": {
  "kernelspec": {
   "display_name": "Python 3 (ipykernel)",
   "language": "python",
   "name": "python3"
  },
  "language_info": {
   "codemirror_mode": {
    "name": "ipython",
    "version": 3
   },
   "file_extension": ".py",
   "mimetype": "text/x-python",
   "name": "python",
   "nbconvert_exporter": "python",
   "pygments_lexer": "ipython3",
   "version": "3.9.7"
  }
 },
 "nbformat": 4,
 "nbformat_minor": 5
}
