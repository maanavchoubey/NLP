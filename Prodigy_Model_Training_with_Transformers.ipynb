{
 "cells": [
  {
   "cell_type": "markdown",
   "id": "3bf6be79",
   "metadata": {},
   "source": [
    "# Training spaCy Models with Transformers\n",
    "\n",
    "1. Convert your prodigy dataset into spaCy training format using the below command:\n",
    " \n",
    " python -m prodigy data-to-spacy \"output_dir\" --ner dataset_name -eval split    0.2\n",
    " \n",
    " Example of above command:\n",
    " \n",
    " python -m prodigy data-to-spacy \"D:\\vc_sentences\\data_to_spacy\" --ner sent_dataset --eval-split 0.2\n",
    " \n",
    " here,\n",
    " data-to-spacy is the recipe name;\n",
    " sent_dataset was the dataset used in prodigy.\n",
    " \n",
    "\n",
    "2. The above command will give you train.spacy and dev.spacy files used for training our spaCy model (ignore the config file).\n",
    "\n",
    "\n",
    "3. To create our own custom config file for transformers, download the \"base_config.cfg\" file from spaCy website.\n",
    " -Convert the base_config.cfg file to config.cfg using the below command:\n",
    "  python -m spacy init fill-config PATH_TO_BASE_CONFIG PATH_TO_SAVE_NEW_CONFIG\n",
    "  \n",
    "4. To finally train our model we'll use the below command:\n",
    "    \n",
    "    python -m spacy train PATH_TO_NEW_CONFIG --output PATH_TO_OUTPUT_DIR --paths.train PATH_TO_TRAIN.SPACY --paths.dev PATH_TO_DEV.SPACY\n",
    "    \n",
    "5. The final output will be model-best and model-last folder in your output directory.\n",
    " \n",
    "\n",
    "\n",
    "NOTE:-\n",
    "If encountering the mentioned error: (Error 15: Initializing libiomp5md.dll, but found libiomp5md.dll already initialized.) Use the below command in your environment or create a new environment.\n",
    "\n",
    "            import os\n",
    "            os.environ[\"KMP_DUPLICATE_LIB_OK\"]=\"TRUE\""
   ]
  }
 ],
 "metadata": {
  "kernelspec": {
   "display_name": "Python 3 (ipykernel)",
   "language": "python",
   "name": "python3"
  },
  "language_info": {
   "codemirror_mode": {
    "name": "ipython",
    "version": 3
   },
   "file_extension": ".py",
   "mimetype": "text/x-python",
   "name": "python",
   "nbconvert_exporter": "python",
   "pygments_lexer": "ipython3",
   "version": "3.9.7"
  }
 },
 "nbformat": 4,
 "nbformat_minor": 5
}
